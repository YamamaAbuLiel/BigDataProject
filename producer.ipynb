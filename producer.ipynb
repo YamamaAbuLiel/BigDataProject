{
 "cells": [
  {
   "cell_type": "code",
   "execution_count": 2,
   "id": "6ad68291",
   "metadata": {},
   "outputs": [
    {
     "ename": "KeyboardInterrupt",
     "evalue": "",
     "output_type": "error",
     "traceback": [
      "\u001b[1;31m---------------------------------------------------------------------------\u001b[0m",
      "\u001b[1;31mKeyboardInterrupt\u001b[0m                         Traceback (most recent call last)",
      "Cell \u001b[1;32mIn[2], line 34\u001b[0m\n\u001b[0;32m     31\u001b[0m tweet_count \u001b[38;5;241m+\u001b[39m\u001b[38;5;241m=\u001b[39m \u001b[38;5;241m1\u001b[39m\n\u001b[0;32m     33\u001b[0m \u001b[38;5;28;01mif\u001b[39;00m tweet_count \u001b[38;5;241m%\u001b[39m batch_size \u001b[38;5;241m==\u001b[39m \u001b[38;5;241m0\u001b[39m:\n\u001b[1;32m---> 34\u001b[0m     time\u001b[38;5;241m.\u001b[39msleep(\u001b[38;5;241m1\u001b[39m)\n",
      "\u001b[1;31mKeyboardInterrupt\u001b[0m: "
     ]
    }
   ],
   "source": [
    "from kafka import KafkaProducer\n",
    "import csv\n",
    "import time\n",
    "import random\n",
    "from json import dumps\n",
    "import zipfile\n",
    "# Configure Kafka producer with the bootstrap servers and value serializer\n",
    "producer = KafkaProducer(\n",
    "    bootstrap_servers=['localhost:9092'],\n",
    "    value_serializer=lambda x: dumps(x).encode('utf-8')\n",
    ")\n",
    "\n",
    "topic_name = \"tweets\"\n",
    "batch_size = 1000\n",
    "tweet_count = 0\n",
    "\n",
    "with zipfile.ZipFile(r'C:\\Users\\Yamama Abu Liel\\Desktop\\Big Data Project\\bigdata.zip', 'r') as z:\n",
    "    with z.open('training.1600000.processed.noemoticon.csv') as f:\n",
    "        reader = csv.reader((line.decode('utf-8', 'ignore') for line in f))\n",
    "\n",
    "        for attribute_details in reader:\n",
    "            tweet = {\n",
    "                \"id\": attribute_details[1],\n",
    "                \"date\": int(time.time() * 1000),\n",
    "                \"user\": attribute_details[4],\n",
    "                \"text\": attribute_details[5],\n",
    "                \"retweets\": int(random.random() * 10)\n",
    "            }\n",
    "\n",
    "            producer.send(topic_name, value=tweet)\n",
    "            tweet_count += 1\n",
    "\n",
    "            if tweet_count % batch_size == 0:\n",
    "                time.sleep(1)\n"
   ]
  },
  {
   "cell_type": "code",
   "execution_count": null,
   "id": "a705d8c9",
   "metadata": {},
   "outputs": [],
   "source": []
  }
 ],
 "metadata": {
  "kernelspec": {
   "display_name": "Python 3 (ipykernel)",
   "language": "python",
   "name": "python3"
  },
  "language_info": {
   "codemirror_mode": {
    "name": "ipython",
    "version": 3
   },
   "file_extension": ".py",
   "mimetype": "text/x-python",
   "name": "python",
   "nbconvert_exporter": "python",
   "pygments_lexer": "ipython3",
   "version": "3.11.5"
  }
 },
 "nbformat": 4,
 "nbformat_minor": 5
}
